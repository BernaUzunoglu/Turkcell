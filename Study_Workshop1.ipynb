{
  "nbformat": 4,
  "nbformat_minor": 0,
  "metadata": {
    "colab": {
      "provenance": [],
      "authorship_tag": "ABX9TyOKkwOs4e7efrZie8m3yf83",
      "include_colab_link": true
    },
    "kernelspec": {
      "name": "python3",
      "display_name": "Python 3"
    },
    "language_info": {
      "name": "python"
    }
  },
  "cells": [
    {
      "cell_type": "markdown",
      "metadata": {
        "id": "view-in-github",
        "colab_type": "text"
      },
      "source": [
        "<a href=\"https://colab.research.google.com/github/BernaUzunoglu/Turkcell/blob/main/Study_Workshop1.ipynb\" target=\"_parent\"><img src=\"https://colab.research.google.com/assets/colab-badge.svg\" alt=\"Open In Colab\"/></a>"
      ]
    },
    {
      "cell_type": "markdown",
      "source": [
        "W1:\n",
        "Bir öğrenci yönetim sistemi için aşağıdaki veri yapısı verilmiştir:\n",
        "\n",
        "```\n",
        "students = [\n",
        "    {\"name\": \"Ali\", \"grades\": {\"math\": 85, \"physics\": 90, \"history\": 78}},\n",
        "    {\"name\": \"Ayşe\", \"grades\": {\"math\": 92, \"physics\": 88, \"history\": 95}},\n",
        "    {\"name\": \"Mehmet\", \"grades\": {\"math\": 75, \"physics\": 80, \"history\": 85}},\n",
        "    {\"name\": \"Zeynep\", \"grades\": {\"math\": 90, \"physics\": 85, \"history\": 88}},\n",
        "]\n",
        "```\n",
        "\n",
        "\n",
        "** Yapılması gerekenler: **\n",
        "\n",
        "* En yüksek matematik notuna sahip öğrencinin adını bulun.\n",
        "\n",
        "* Tüm derslerin ortalama notlarını içeren bir sözlük oluşturun.\n",
        "\n",
        "* Ortalama notu 85'in üzerinde olan öğrencileri bir liste halinde döndürün.\n",
        "\n",
        "* Bunu en verimli şekilde Python kodu ile nasıl yaparsınız?"
      ],
      "metadata": {
        "id": "4XGGxYXyqztS"
      }
    },
    {
      "cell_type": "code",
      "source": [
        "students = [\n",
        "    {\"name\": \"Ali\", \"grades\": {\"math\": 85, \"physics\": 90, \"history\": 78}},\n",
        "    {\"name\": \"Ayşe\", \"grades\": {\"math\": 92, \"physics\": 88, \"history\": 95}},\n",
        "    {\"name\": \"Mehmet\", \"grades\": {\"math\": 75, \"physics\": 80, \"history\": 85}},\n",
        "    {\"name\": \"Zeynep\", \"grades\": {\"math\": 90, \"physics\": 85, \"history\": 88}}]\n",
        "students"
      ],
      "metadata": {
        "colab": {
          "base_uri": "https://localhost:8080/"
        },
        "id": "_O5jcyHZrFNM",
        "outputId": "b80d819b-b6e8-4328-a006-c4339abce71f"
      },
      "execution_count": null,
      "outputs": [
        {
          "output_type": "execute_result",
          "data": {
            "text/plain": [
              "[{'name': 'Ali', 'grades': {'math': 85, 'physics': 90, 'history': 78}},\n",
              " {'name': 'Ayşe', 'grades': {'math': 92, 'physics': 88, 'history': 95}},\n",
              " {'name': 'Mehmet', 'grades': {'math': 75, 'physics': 80, 'history': 85}},\n",
              " {'name': 'Zeynep', 'grades': {'math': 90, 'physics': 85, 'history': 88}}]"
            ]
          },
          "metadata": {},
          "execution_count": 1
        }
      ]
    },
    {
      "cell_type": "code",
      "source": [
        "# En yüksek matematik notuna sahip öğrencinin adını bulun.\n",
        "\n",
        "def sonuc(student):\n",
        "    return student[\"grades\"][\"math\"]\n",
        "\n",
        "en_yuksek_not = max(students, key = sonuc)\n",
        "\n",
        "# print(en_yuksek_not)\n",
        "\n",
        "# Öğrenci adı ve notunu gösterme\n",
        "kisi = en_yuksek_not[\"name\"]\n",
        "notu = en_yuksek_not[\"grades\"][\"math\"]\n",
        "\n",
        "kisi, notu"
      ],
      "metadata": {
        "colab": {
          "base_uri": "https://localhost:8080/"
        },
        "id": "rVxOILpSrNfL",
        "outputId": "3bd0a887-79f2-435c-ac68-71dfb9b07c94"
      },
      "execution_count": null,
      "outputs": [
        {
          "output_type": "execute_result",
          "data": {
            "text/plain": [
              "('Ayşe', 92)"
            ]
          },
          "metadata": {},
          "execution_count": 2
        }
      ]
    },
    {
      "cell_type": "code",
      "source": [
        "# Tüm derslerin ortalama notlarını içeren bir sözlük oluşturun.\n",
        "\n",
        "def ortalama(students):\n",
        "  ort_notlar = {}\n",
        "  dersler = students[0][\"grades\"].keys()\n",
        "  # print(dersler)\n",
        "\n",
        "  for i in dersler:\n",
        "    ort_notlar[i] = sum([student[\"grades\"][i] for student in students]) / len(students)\n",
        "\n",
        "  return ort_notlar\n",
        "\n",
        "ortalama = ortalama(students)\n",
        "print(ortalama)"
      ],
      "metadata": {
        "colab": {
          "base_uri": "https://localhost:8080/"
        },
        "id": "jmHxVAbRrP5B",
        "outputId": "0b8671d1-190b-45ec-d2ec-4d973127b389"
      },
      "execution_count": null,
      "outputs": [
        {
          "output_type": "stream",
          "name": "stdout",
          "text": [
            "{'math': 85.5, 'physics': 85.75, 'history': 86.5}\n"
          ]
        }
      ]
    },
    {
      "cell_type": "code",
      "source": [
        "# Ortalama notu 85'in üzerinde olan öğrencileri bir liste halinde döndürün.\n",
        "\n",
        "ogr_list = []\n",
        "\n",
        "for student in students:\n",
        "    # print(student[\"grades\"].values())\n",
        "    ort = sum(student[\"grades\"].values()) / len (student[\"grades\"].values())\n",
        "    # print(f'isim: {student[\"name\"]}\\n ort: {sum(student[\"grades\"].values()) / len (student[\"grades\"].values())}')\n",
        "    if ort > 85:\n",
        "        ogr_list.append(student[\"name\"])\n",
        "\n",
        "print(ogr_list)"
      ],
      "metadata": {
        "colab": {
          "base_uri": "https://localhost:8080/"
        },
        "id": "v0JSBZQmrR9V",
        "outputId": "7eb60c31-9d76-4f8a-8299-24ba1229f1f5"
      },
      "execution_count": null,
      "outputs": [
        {
          "output_type": "stream",
          "name": "stdout",
          "text": [
            "['Ayşe', 'Zeynep']\n"
          ]
        }
      ]
    },
    {
      "cell_type": "markdown",
      "source": [
        "W2\n",
        "Bir şirkette çalışanların görevlerini ve maaşlarını içeren bir veri yapısı aşağıda verilmiştir:\n",
        "\n",
        "\n",
        "\n",
        "```\n",
        "employees = [\n",
        "    {\n",
        "        \"name\": \"Ahmet\",\n",
        "        \"department\": \"IT\",\n",
        "        \"salary\": 8500,\n",
        "        \"tasks\": [\n",
        "            {\"task\": \"Database Optimization\", \"completed\": True, \"effort\": 5},\n",
        "            {\"task\": \"API Development\", \"completed\": True, \"effort\": 8},\n",
        "            {\"task\": \"Security Audit\", \"completed\": False, \"effort\": 6},\n",
        "        ],\n",
        "    },\n",
        "    {\n",
        "        \"name\": \"Elif\",\n",
        "        \"department\": \"HR\",\n",
        "        \"salary\": 7500,\n",
        "        \"tasks\": [\n",
        "            {\"task\": \"Recruitment\", \"completed\": True, \"effort\": 7},\n",
        "            {\"task\": \"Training\", \"completed\": True, \"effort\": 4},\n",
        "            {\"task\": \"Policy Update\", \"completed\": False, \"effort\": 3},\n",
        "        ],\n",
        "    },\n",
        "    {\n",
        "        \"name\": \"Mehmet\",\n",
        "        \"department\": \"IT\",\n",
        "        \"salary\": 9200,\n",
        "        \"tasks\": [\n",
        "            {\"task\": \"Cloud Migration\", \"completed\": True, \"effort\": 9},\n",
        "            {\"task\": \"Load Balancing\", \"completed\": True, \"effort\": 7},\n",
        "            {\"task\": \"System Monitoring\", \"completed\": True, \"effort\": 5},\n",
        "        ],\n",
        "    },\n",
        "    {\n",
        "        \"name\": \"Ayşe\",\n",
        "        \"department\": \"Marketing\",\n",
        "        \"salary\": 6800,\n",
        "        \"tasks\": [\n",
        "            {\"task\": \"Social Media Campaign\", \"completed\": True, \"effort\": 6},\n",
        "            {\"task\": \"SEO Optimization\", \"completed\": False, \"effort\": 4},\n",
        "            {\"task\": \"Brand Strategy\", \"completed\": True, \"effort\": 7},\n",
        "        ],\n",
        "    },\n",
        "]\n",
        "```\n",
        "\n",
        "\n",
        "**Yapılması Gerekenler:**\n",
        "* En yüksek maaşa sahip çalışanı bulun.\n",
        "* Her departmandaki çalışanların toplam maaşlarını içeren bir sözlük oluşturun.\n",
        "* Tüm görevlerin tamamlanma yüzdesini hesaplayın. (Tamamlanan görev sayısı / Toplam görev sayısı)\n",
        "* Çalışanları tamamladıkları görevlerin toplam \"effort\" değerine göre sıralayarak listeleyin.\n",
        "* Görevlerini %100 tamamlamış çalışanları listeleyin.\n",
        "* Her departman için, en az bir görevini tamamlamış çalışanların adlarını içeren bir sözlük oluşturun."
      ],
      "metadata": {
        "id": "VzXS7ne6sHjv"
      }
    },
    {
      "cell_type": "code",
      "source": [
        "employees = [\n",
        "    {\n",
        "        \"name\": \"Ahmet\",\n",
        "        \"department\": \"IT\",\n",
        "        \"salary\": 8500,\n",
        "        \"tasks\": [\n",
        "            {\"task\": \"Database Optimization\", \"completed\": True, \"effort\": 5},\n",
        "            {\"task\": \"API Development\", \"completed\": True, \"effort\": 8},\n",
        "            {\"task\": \"Security Audit\", \"completed\": False, \"effort\": 6},\n",
        "        ],\n",
        "    },\n",
        "    {\n",
        "        \"name\": \"Elif\",\n",
        "        \"department\": \"HR\",\n",
        "        \"salary\": 7500,\n",
        "        \"tasks\": [\n",
        "            {\"task\": \"Recruitment\", \"completed\": True, \"effort\": 7},\n",
        "            {\"task\": \"Training\", \"completed\": True, \"effort\": 4},\n",
        "            {\"task\": \"Policy Update\", \"completed\": False, \"effort\": 3},\n",
        "        ],\n",
        "    },\n",
        "    {\n",
        "        \"name\": \"Mehmet\",\n",
        "        \"department\": \"IT\",\n",
        "        \"salary\": 9200,\n",
        "        \"tasks\": [\n",
        "            {\"task\": \"Cloud Migration\", \"completed\": True, \"effort\": 9},\n",
        "            {\"task\": \"Load Balancing\", \"completed\": True, \"effort\": 7},\n",
        "            {\"task\": \"System Monitoring\", \"completed\": True, \"effort\": 5},\n",
        "        ],\n",
        "    },\n",
        "    {\n",
        "        \"name\": \"Ayşe\",\n",
        "        \"department\": \"Marketing\",\n",
        "        \"salary\": 6800,\n",
        "        \"tasks\": [\n",
        "            {\"task\": \"Social Media Campaign\", \"completed\": True, \"effort\": 6},\n",
        "            {\"task\": \"SEO Optimization\", \"completed\": False, \"effort\": 4},\n",
        "            {\"task\": \"Brand Strategy\", \"completed\": True, \"effort\": 7},\n",
        "        ],\n",
        "    },\n",
        "]"
      ],
      "metadata": {
        "id": "V-7TkAyOsniH"
      },
      "execution_count": 145,
      "outputs": []
    },
    {
      "cell_type": "code",
      "source": [
        "# En yüksek maaşa sahip çalışanı bulun.\n",
        "# [print(eleman.get(\"salary\"))for eleman in employees]\n",
        "salary= []\n",
        "[salary.append(eleman.get(\"salary\")) for eleman in employees]\n",
        "eleman = [eleman for eleman in employees if eleman.get(\"salary\") == max(salary)]\n",
        "print(f'En Yüksek Maaş Alan Eleman : ',eleman)\n",
        "print(eleman[0].get(\"name\"))"
      ],
      "metadata": {
        "colab": {
          "base_uri": "https://localhost:8080/"
        },
        "id": "Oupqt1M5srLm",
        "outputId": "9b672c7a-6b3b-46df-9b2a-2b80636ededd"
      },
      "execution_count": 5,
      "outputs": [
        {
          "output_type": "stream",
          "name": "stdout",
          "text": [
            "En Yüksek Maaş Alan Eleman :  [{'name': 'Mehmet', 'department': 'IT', 'salary': 9200, 'tasks': [{'task': 'Cloud Migration', 'completed': True, 'effort': 9}, {'task': 'Load Balancing', 'completed': True, 'effort': 7}, {'task': 'System Monitoring', 'completed': True, 'effort': 5}]}]\n",
            "Mehmet\n"
          ]
        }
      ]
    },
    {
      "cell_type": "code",
      "source": [
        "def depart_sum_maas(data):\n",
        "  department =[]\n",
        "  [department.append(employe.get(\"department\")) for employe in data if employe.get(\"department\") not in department]\n",
        "  depart_sum_maas  = {key: 0 for key in department}\n",
        "\n",
        "  for employe in employees:\n",
        "    temp_department = employe.get(\"department\")\n",
        "    if temp_department in depart_sum_maas:\n",
        "      depart_sum_maas[temp_department] = employe.get(\"salary\")+depart_sum_maas[temp_department]\n",
        "  return depart_sum_maas\n",
        "\n",
        "print(depart_sum_maas(employees))"
      ],
      "metadata": {
        "id": "_mbwTUooydVR",
        "colab": {
          "base_uri": "https://localhost:8080/"
        },
        "outputId": "f72b6219-d433-494c-c8b1-a1dcf2bf9402"
      },
      "execution_count": 57,
      "outputs": [
        {
          "output_type": "stream",
          "name": "stdout",
          "text": [
            "{'IT': 17700, 'HR': 7500, 'Marketing': 6800}\n"
          ]
        }
      ]
    },
    {
      "cell_type": "code",
      "source": [
        "# Tüm görevlerin tamamlanma yüzdesini hesaplayın. (Tamamlanan görev sayısı / Toplam görev sayısı)\n",
        "\n",
        "# for employe in employees:\n",
        "#   for task in employe[\"tasks\"]:\n",
        "#      print(task)\n",
        "\n",
        "def completed_rate(data):\n",
        "  completed = 0\n",
        "  task_count = 0\n",
        "  for employe in data:\n",
        "    for  task in employe[\"tasks\"]:\n",
        "      task_count += 1\n",
        "      if task.get(\"completed\") == True:\n",
        "        completed += 1\n",
        "\n",
        "  return completed /task_count\n",
        "\n",
        "print(completed_rate(employees))\n"
      ],
      "metadata": {
        "colab": {
          "base_uri": "https://localhost:8080/"
        },
        "id": "aTp7KgCsKYZL",
        "outputId": "8f4bcb83-f24f-4427-c0a0-32ea754378ba"
      },
      "execution_count": 92,
      "outputs": [
        {
          "output_type": "stream",
          "name": "stdout",
          "text": [
            "0.75\n"
          ]
        }
      ]
    },
    {
      "cell_type": "code",
      "source": [
        "# Çalışanları tamamladıkları görevlerin toplam \"effort\" değerine göre sıralayarak listeleyin.\n",
        "\n",
        "def sorted_sum_effort(data):\n",
        "  for employe in employees:\n",
        "    sum_effort = 0\n",
        "    for task in employe['tasks']:\n",
        "\n",
        "      if task.get(\"completed\") == True:\n",
        "        sum_effort = sum_effort + task.get(\"effort\")\n",
        "  employe[\"sum_effort\"] = sum_effort\n",
        "  return  sorted(employees, key=lambda x: x['sum_effort'], reverse=True)\n",
        "\n",
        "print(sorted_sum_effort(employees))"
      ],
      "metadata": {
        "colab": {
          "base_uri": "https://localhost:8080/"
        },
        "id": "nS_9wmnjcm3e",
        "outputId": "6d3975e0-0625-4c54-d29f-83de86784735"
      },
      "execution_count": 121,
      "outputs": [
        {
          "output_type": "stream",
          "name": "stdout",
          "text": [
            "[{'name': 'Mehmet', 'department': 'IT', 'salary': 9200, 'tasks': [{'task': 'Cloud Migration', 'completed': True, 'effort': 9}, {'task': 'Load Balancing', 'completed': True, 'effort': 7}, {'task': 'System Monitoring', 'completed': True, 'effort': 5}], 'sum_effort': 21}, {'name': 'Ahmet', 'department': 'IT', 'salary': 8500, 'tasks': [{'task': 'Database Optimization', 'completed': True, 'effort': 5}, {'task': 'API Development', 'completed': True, 'effort': 8}, {'task': 'Security Audit', 'completed': False, 'effort': 6}], 'sum_effort': 13}, {'name': 'Ayşe', 'department': 'Marketing', 'salary': 6800, 'tasks': [{'task': 'Social Media Campaign', 'completed': True, 'effort': 6}, {'task': 'SEO Optimization', 'completed': False, 'effort': 4}, {'task': 'Brand Strategy', 'completed': True, 'effort': 7}], 'sum_effort': 13}, {'name': 'Elif', 'department': 'HR', 'salary': 7500, 'tasks': [{'task': 'Recruitment', 'completed': True, 'effort': 7}, {'task': 'Training', 'completed': True, 'effort': 4}, {'task': 'Policy Update', 'completed': False, 'effort': 3}], 'sum_effort': 11}]\n"
          ]
        }
      ]
    },
    {
      "cell_type": "code",
      "source": [
        "# Görevlerini %100 tamamlamış çalışanları listeleyin.\n",
        "all_task_employees = []\n",
        "for employe in employees:\n",
        "  all_completed = True\n",
        "  for task in employe['tasks']:\n",
        "    if task['completed'] == False:\n",
        "      all_completed = False\n",
        "      break\n",
        "  if all_completed == True:\n",
        "    all_task_employees.append(employe)\n",
        "print(all_task_employees)\n"
      ],
      "metadata": {
        "colab": {
          "base_uri": "https://localhost:8080/"
        },
        "id": "2cnn-49gk50H",
        "outputId": "71499d24-33b4-4c76-cb8d-0438fa2ec832"
      },
      "execution_count": 130,
      "outputs": [
        {
          "output_type": "stream",
          "name": "stdout",
          "text": [
            "[{'name': 'Mehmet', 'department': 'IT', 'salary': 9200, 'tasks': [{'task': 'Cloud Migration', 'completed': True, 'effort': 9}, {'task': 'Load Balancing', 'completed': True, 'effort': 7}, {'task': 'System Monitoring', 'completed': True, 'effort': 5}], 'sum_effort': 21}]\n"
          ]
        }
      ]
    },
    {
      "cell_type": "code",
      "source": [
        "# Her departman için, en az bir görevini tamamlamış çalışanların adlarını içeren bir sözlük oluşturun.\n",
        "\n",
        "# Departmanları belirle\n",
        "department = []\n",
        "[department.append(employe.get(\"department\")) for employe in employees if employe.get(\"department\") not in department]\n",
        "\n",
        "# Her departman için boş liste içeren sözlük oluştur\n",
        "one_task_employees = {key: [] for key in department}\n",
        "\n",
        "# Çalışanları ve görevlerini kontrol et\n",
        "for employe in employees:\n",
        "    one_completed_task = False\n",
        "    for task in employe[\"tasks\"]:\n",
        "        if task[\"completed\"] == True:\n",
        "            one_completed_task = True\n",
        "            break\n",
        "    if one_completed_task == True:\n",
        "        # İlgili departmana çalışan ismini ekle\n",
        "        dept = employe.get(\"department\")\n",
        "        if dept in one_task_employees:\n",
        "            one_task_employees[dept].append(employe[\"name\"])\n",
        "\n",
        "print(one_task_employees)\n"
      ],
      "metadata": {
        "colab": {
          "base_uri": "https://localhost:8080/"
        },
        "id": "nZt_xpTIuIoG",
        "outputId": "54ee0f42-f9a0-4fc4-9436-6481f26207a6"
      },
      "execution_count": 146,
      "outputs": [
        {
          "output_type": "stream",
          "name": "stdout",
          "text": [
            "{'IT': ['Ahmet', 'Mehmet'], 'HR': ['Elif'], 'Marketing': ['Ayşe']}\n"
          ]
        }
      ]
    }
  ]
}