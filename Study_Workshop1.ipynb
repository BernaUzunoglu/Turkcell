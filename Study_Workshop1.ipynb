{
  "nbformat": 4,
  "nbformat_minor": 0,
  "metadata": {
    "colab": {
      "provenance": [],
      "authorship_tag": "ABX9TyOxZf81u1Y7i6i7mMhDa9vY",
      "include_colab_link": true
    },
    "kernelspec": {
      "name": "python3",
      "display_name": "Python 3"
    },
    "language_info": {
      "name": "python"
    }
  },
  "cells": [
    {
      "cell_type": "markdown",
      "metadata": {
        "id": "view-in-github",
        "colab_type": "text"
      },
      "source": [
        "<a href=\"https://colab.research.google.com/github/BernaUzunoglu/Turkcell/blob/main/Study_Workshop1.ipynb\" target=\"_parent\"><img src=\"https://colab.research.google.com/assets/colab-badge.svg\" alt=\"Open In Colab\"/></a>"
      ]
    },
    {
      "cell_type": "markdown",
      "source": [
        "W1:\n",
        "Bir öğrenci yönetim sistemi için aşağıdaki veri yapısı verilmiştir:\n",
        "\n",
        "```\n",
        "students = [\n",
        "    {\"name\": \"Ali\", \"grades\": {\"math\": 85, \"physics\": 90, \"history\": 78}},\n",
        "    {\"name\": \"Ayşe\", \"grades\": {\"math\": 92, \"physics\": 88, \"history\": 95}},\n",
        "    {\"name\": \"Mehmet\", \"grades\": {\"math\": 75, \"physics\": 80, \"history\": 85}},\n",
        "    {\"name\": \"Zeynep\", \"grades\": {\"math\": 90, \"physics\": 85, \"history\": 88}},\n",
        "]\n",
        "```\n",
        "\n",
        "\n",
        "** Yapılması gerekenler: **\n",
        "\n",
        "* En yüksek matematik notuna sahip öğrencinin adını bulun.\n",
        "\n",
        "* Tüm derslerin ortalama notlarını içeren bir sözlük oluşturun.\n",
        "\n",
        "* Ortalama notu 85'in üzerinde olan öğrencileri bir liste halinde döndürün.\n",
        "\n",
        "* Bunu en verimli şekilde Python kodu ile nasıl yaparsınız?"
      ],
      "metadata": {
        "id": "4XGGxYXyqztS"
      }
    },
    {
      "cell_type": "code",
      "source": [
        "students = [\n",
        "    {\"name\": \"Ali\", \"grades\": {\"math\": 85, \"physics\": 90, \"history\": 78}},\n",
        "    {\"name\": \"Ayşe\", \"grades\": {\"math\": 92, \"physics\": 88, \"history\": 95}},\n",
        "    {\"name\": \"Mehmet\", \"grades\": {\"math\": 75, \"physics\": 80, \"history\": 85}},\n",
        "    {\"name\": \"Zeynep\", \"grades\": {\"math\": 90, \"physics\": 85, \"history\": 88}}]\n",
        "students"
      ],
      "metadata": {
        "colab": {
          "base_uri": "https://localhost:8080/"
        },
        "id": "_O5jcyHZrFNM",
        "outputId": "b80d819b-b6e8-4328-a006-c4339abce71f"
      },
      "execution_count": 1,
      "outputs": [
        {
          "output_type": "execute_result",
          "data": {
            "text/plain": [
              "[{'name': 'Ali', 'grades': {'math': 85, 'physics': 90, 'history': 78}},\n",
              " {'name': 'Ayşe', 'grades': {'math': 92, 'physics': 88, 'history': 95}},\n",
              " {'name': 'Mehmet', 'grades': {'math': 75, 'physics': 80, 'history': 85}},\n",
              " {'name': 'Zeynep', 'grades': {'math': 90, 'physics': 85, 'history': 88}}]"
            ]
          },
          "metadata": {},
          "execution_count": 1
        }
      ]
    },
    {
      "cell_type": "code",
      "source": [
        "# En yüksek matematik notuna sahip öğrencinin adını bulun.\n",
        "\n",
        "def sonuc(student):\n",
        "    return student[\"grades\"][\"math\"]\n",
        "\n",
        "en_yuksek_not = max(students, key = sonuc)\n",
        "\n",
        "# print(en_yuksek_not)\n",
        "\n",
        "# Öğrenci adı ve notunu gösterme\n",
        "kisi = en_yuksek_not[\"name\"]\n",
        "notu = en_yuksek_not[\"grades\"][\"math\"]\n",
        "\n",
        "kisi, notu"
      ],
      "metadata": {
        "colab": {
          "base_uri": "https://localhost:8080/"
        },
        "id": "rVxOILpSrNfL",
        "outputId": "3bd0a887-79f2-435c-ac68-71dfb9b07c94"
      },
      "execution_count": 2,
      "outputs": [
        {
          "output_type": "execute_result",
          "data": {
            "text/plain": [
              "('Ayşe', 92)"
            ]
          },
          "metadata": {},
          "execution_count": 2
        }
      ]
    },
    {
      "cell_type": "code",
      "source": [
        "# Tüm derslerin ortalama notlarını içeren bir sözlük oluşturun.\n",
        "\n",
        "def ortalama(students):\n",
        "  ort_notlar = {}\n",
        "  dersler = students[0][\"grades\"].keys()\n",
        "  # print(dersler)\n",
        "\n",
        "  for i in dersler:\n",
        "    ort_notlar[i] = sum([student[\"grades\"][i] for student in students]) / len(students)\n",
        "\n",
        "  return ort_notlar\n",
        "\n",
        "ortalama = ortalama(students)\n",
        "print(ortalama)"
      ],
      "metadata": {
        "colab": {
          "base_uri": "https://localhost:8080/"
        },
        "id": "jmHxVAbRrP5B",
        "outputId": "0b8671d1-190b-45ec-d2ec-4d973127b389"
      },
      "execution_count": 3,
      "outputs": [
        {
          "output_type": "stream",
          "name": "stdout",
          "text": [
            "{'math': 85.5, 'physics': 85.75, 'history': 86.5}\n"
          ]
        }
      ]
    },
    {
      "cell_type": "code",
      "source": [
        "# Ortalama notu 85'in üzerinde olan öğrencileri bir liste halinde döndürün.\n",
        "\n",
        "ogr_list = []\n",
        "\n",
        "for student in students:\n",
        "    # print(student[\"grades\"].values())\n",
        "    ort = sum(student[\"grades\"].values()) / len (student[\"grades\"].values())\n",
        "    # print(f'isim: {student[\"name\"]}\\n ort: {sum(student[\"grades\"].values()) / len (student[\"grades\"].values())}')\n",
        "    if ort > 85:\n",
        "        ogr_list.append(student[\"name\"])\n",
        "\n",
        "print(ogr_list)"
      ],
      "metadata": {
        "colab": {
          "base_uri": "https://localhost:8080/"
        },
        "id": "v0JSBZQmrR9V",
        "outputId": "7eb60c31-9d76-4f8a-8299-24ba1229f1f5"
      },
      "execution_count": 4,
      "outputs": [
        {
          "output_type": "stream",
          "name": "stdout",
          "text": [
            "['Ayşe', 'Zeynep']\n"
          ]
        }
      ]
    }
  ]
}