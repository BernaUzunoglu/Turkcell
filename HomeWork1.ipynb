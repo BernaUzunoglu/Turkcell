{
  "nbformat": 4,
  "nbformat_minor": 0,
  "metadata": {
    "colab": {
      "provenance": [],
      "authorship_tag": "ABX9TyO5jNHPD63XrXVKViekZjRp",
      "include_colab_link": true
    },
    "kernelspec": {
      "name": "python3",
      "display_name": "Python 3"
    },
    "language_info": {
      "name": "python"
    }
  },
  "cells": [
    {
      "cell_type": "markdown",
      "metadata": {
        "id": "view-in-github",
        "colab_type": "text"
      },
      "source": [
        "<a href=\"https://colab.research.google.com/github/BernaUzunoglu/Turkcell/blob/main/HomeWork1.ipynb\" target=\"_parent\"><img src=\"https://colab.research.google.com/assets/colab-badge.svg\" alt=\"Open In Colab\"/></a>"
      ]
    },
    {
      "cell_type": "markdown",
      "source": [
        "**H1:Bir şirketteki çalışanların performans verileri aşağıda verilmiştir:**\n",
        "\n",
        "```\n",
        "employees = [\n",
        "    {\"name\": \"Ahmet\", \"department\": \"IT\", \"projects\": [{\"name\": \"CRM\", \"completed\": True, \"hours\": 120}, {\"name\": \"Security\", \"completed\": False, \"hours\": 80}]},\n",
        "    {\"name\": \"Elif\", \"department\": \"HR\", \"projects\": [{\"name\": \"Hiring System\", \"completed\": True, \"hours\": 90}, {\"name\": \"Employee Portal\", \"completed\": True, \"hours\": 100}]},\n",
        "    {\"name\": \"Mehmet\", \"department\": \"IT\", \"projects\": [{\"name\": \"Cloud Migration\", \"completed\": True, \"hours\": 150}, {\"name\": \"Data Analysis\", \"completed\": True, \"hours\": 130}]},\n",
        "    {\"name\": \"Ayşe\", \"department\": \"Marketing\", \"projects\": [{\"name\": \"Social Media\", \"completed\": True, \"hours\": 60}, {\"name\": \"SEO\", \"completed\": False, \"hours\": 50}]}\n",
        "]\n",
        "```\n",
        "\n",
        "\n",
        "**Yapılması Gerekenler:**\n",
        "* En çok saat harcayan çalışanı bulun.\n",
        "* Tamamlanan proje sayısı en yüksek olan çalışanı belirleyin.\n",
        "* Her departmandaki toplam çalışma saatlerini hesaplayın.\n",
        "* En çok proje yapan departmanı bulun.\n",
        "* Tüm projelerin tamamlanma yüzdesini hesaplayın."
      ],
      "metadata": {
        "id": "Ejkhz8WwbsUv"
      }
    },
    {
      "cell_type": "code",
      "source": [
        "employees = [\n",
        "    {\"name\": \"Ahmet\", \"department\": \"IT\", \"projects\": [{\"name\": \"CRM\", \"completed\": True, \"hours\": 120}, {\"name\": \"Security\", \"completed\": False, \"hours\": 80}]},\n",
        "    {\"name\": \"Elif\", \"department\": \"HR\", \"projects\": [{\"name\": \"Hiring System\", \"completed\": True, \"hours\": 90}, {\"name\": \"Employee Portal\", \"completed\": True, \"hours\": 100}]},\n",
        "    {\"name\": \"Mehmet\", \"department\": \"IT\", \"projects\": [{\"name\": \"Cloud Migration\", \"completed\": True, \"hours\": 150}, {\"name\": \"Data Analysis\", \"completed\": True, \"hours\": 130}]},\n",
        "    {\"name\": \"Ayşe\", \"department\": \"Marketing\", \"projects\": [{\"name\": \"Social Media\", \"completed\": True, \"hours\": 60}, {\"name\": \"SEO\", \"completed\": False, \"hours\": 50}]}\n",
        "]"
      ],
      "metadata": {
        "id": "rfHGWeD9b6VR"
      },
      "execution_count": 55,
      "outputs": []
    },
    {
      "cell_type": "code",
      "source": [
        "# En çok saat harcayan çalışanı bulun.\n",
        "for employe in employees:\n",
        "  employe[\"total_hour\"] = sum(item['hours'] for item in employe['projects'])\n",
        "  # print(employe)\n",
        "\n",
        "# En çok çalışma saatini bul\n",
        "max_total_hour = max(employe[\"total_hour\"] for employe in employees)\n",
        "\n",
        "# En çok saat harcayan çalışanları listele\n",
        "max_hour_employees = [employe for employe in employees if employe[\"total_hour\"] == max_total_hour]\n",
        "\n",
        "print(f'En cok harcanan saati: {max_total_hour}')\n",
        "print(max_hour_employees)"
      ],
      "metadata": {
        "colab": {
          "base_uri": "https://localhost:8080/"
        },
        "id": "0wsYiDqQdKSB",
        "outputId": "c7f98b7b-55ba-4f5c-c3db-9eafdd16680b"
      },
      "execution_count": 26,
      "outputs": [
        {
          "output_type": "stream",
          "name": "stdout",
          "text": [
            "En cok harcanan saati: 280\n",
            "[{'name': 'Mehmet', 'department': 'IT', 'projects': [{'name': 'Cloud Migration', 'completed': True, 'hours': 150}, {'name': 'Data Analysis', 'completed': True, 'hours': 130}], 'total_hour': 280, 'Completed Project': 2}]\n"
          ]
        }
      ]
    },
    {
      "cell_type": "code",
      "source": [
        "# Tamamlanan proje sayısı en yüksek olan çalışanı belirleyin.\n",
        "for employe in employees:\n",
        "  # employe['Completed Project'] =\n",
        "  employe['Completed Project'] = sum(1 for item in employe['projects'] if item[\"completed\"])\n",
        "\n",
        "# En çok tamamlanan proje sayısını bulalım\n",
        "max_completed_project = max(employe['Completed Project']for employe in employees)\n",
        "\n",
        "# En çok proje tamamlayan çalışanları listele\n",
        "max_completed_employees = [employe for employe in employees if employe['Completed Project'] == max_completed_project]\n",
        "\n",
        "print(f'En çok tamamalanan proje sayısı: {max_completed_project}')\n",
        "print(f'En çok proje tamamlayan çalışan : {max_completed_employees}')"
      ],
      "metadata": {
        "colab": {
          "base_uri": "https://localhost:8080/"
        },
        "id": "6WNSwSm9fhNv",
        "outputId": "1d9ad89c-9c3a-4dec-c672-40ec91ea71dd"
      },
      "execution_count": 60,
      "outputs": [
        {
          "output_type": "stream",
          "name": "stdout",
          "text": [
            "En çok tamamalanan proje sayısı: 2\n",
            "En çok proje tamamlayan çalışan : [{'name': 'Elif', 'department': 'HR', 'projects': [{'name': 'Hiring System', 'completed': True, 'hours': 90}, {'name': 'Employee Portal', 'completed': True, 'hours': 100}], 'Completed Project': 2}, {'name': 'Mehmet', 'department': 'IT', 'projects': [{'name': 'Cloud Migration', 'completed': True, 'hours': 150}, {'name': 'Data Analysis', 'completed': True, 'hours': 130}], 'Completed Project': 2}]\n"
          ]
        }
      ]
    },
    {
      "cell_type": "code",
      "source": [
        "# Her departmandaki toplam çalışma saatlerini hesaplayın.\n",
        "\n",
        "# Departmanları belirle\n",
        "department = []\n",
        "[department.append(employe.get(\"department\")) for employe in employees if employe.get(\"department\") not in department]\n",
        "\n",
        "# Departmanların toplam çalışma saatlerini saklamak için bir sözlük oluştur\n",
        "department_work_hours = {dept: 0 for dept in department}\n",
        "\n",
        "# Çalışanların çalışma saatlerini ilgili departmana ekle\n",
        "for employe in employees:\n",
        "    dept = employe.get(\"department\")\n",
        "    if dept in department_work_hours:\n",
        "        department_work_hours[dept] += employe.get(\"total_hour\")\n",
        "\n",
        "print(department_work_hours)"
      ],
      "metadata": {
        "colab": {
          "base_uri": "https://localhost:8080/"
        },
        "id": "QloEhj8diP2j",
        "outputId": "8188e172-67d9-46e7-eed7-6eefeab95131"
      },
      "execution_count": 41,
      "outputs": [
        {
          "output_type": "stream",
          "name": "stdout",
          "text": [
            "{'IT': 480, 'HR': 190, 'Marketing': 110}\n"
          ]
        }
      ]
    },
    {
      "cell_type": "code",
      "source": [
        "# En çok proje yapan departmanı bulun.\n",
        "print(department)\n",
        "\n",
        "# Departmanların toplam proje tamamlama değerlerini saklamak için bir sözlük oluştur\n",
        "department_project_completed = {dept: 0 for dept in department}\n",
        "\n",
        "# Tamamlanan projeleri ekleyelim\n",
        "for employe in employees:\n",
        "    dept = employe.get(\"department\")\n",
        "    if dept in department_project_completed:\n",
        "        department_project_completed[dept] += employe.get(\"Completed Project\")\n",
        "print(department_project_completed)"
      ],
      "metadata": {
        "colab": {
          "base_uri": "https://localhost:8080/"
        },
        "id": "Di_bvSfjmOSv",
        "outputId": "42232d68-3b7e-47d5-fc85-e36761409874"
      },
      "execution_count": 44,
      "outputs": [
        {
          "output_type": "stream",
          "name": "stdout",
          "text": [
            "['IT', 'HR', 'Marketing']\n",
            "{'IT': 3, 'HR': 2, 'Marketing': 1}\n"
          ]
        }
      ]
    },
    {
      "cell_type": "code",
      "source": [
        "# Tüm projelerin tamamlanma yüzdesini hesaplayın.\n",
        "\n",
        "# Bütün projeleri sayacağız\n",
        "# Tamamlananları sayacağız\n",
        "# (Tamamlanan proje sayısı/ toplam proje) * 100\n",
        "\n",
        "completed_count = 0\n",
        "project_count = 0\n",
        "for employe in employees:\n",
        "  completed_count = completed_count +  sum(1 for item in employe['projects'] if item[\"completed\"])\n",
        "  project_count = project_count + len(employe.get(\"projects\"))\n",
        "\n",
        "print(f'Tamamlanan Proje Sayısı :{completed_count}')\n",
        "print(f'Proje Sayısı : {project_count}')\n",
        "print(f'Projelerin tamamlanma yüzdesi : {(completed_count/ project_count)*100}')"
      ],
      "metadata": {
        "colab": {
          "base_uri": "https://localhost:8080/"
        },
        "id": "2vRKDUJbqehU",
        "outputId": "fa9d6c4c-a66b-492e-aa79-c152aa381262"
      },
      "execution_count": 75,
      "outputs": [
        {
          "output_type": "stream",
          "name": "stdout",
          "text": [
            "Tamamlanan Proje Sayısı :6\n",
            "Proje Sayısı : 8\n",
            "Projelerin tamamlanma yüzdesi : 75.0\n"
          ]
        }
      ]
    },
    {
      "cell_type": "markdown",
      "source": [
        "**H2:Bir marketin ürün stok durumu aşağıda verilmiştir:**\n",
        "\n",
        "\n",
        "```\n",
        "stock = [\n",
        "    {\"category\": \"Meyve\", \"items\": [{\"name\": \"Elma\", \"price\": 10, \"quantity\": 50}, {\"name\": \"Muz\", \"price\": 15, \"quantity\": 30}]},\n",
        "    {\"category\": \"Sebze\", \"items\": [{\"name\": \"Domates\", \"price\": 8, \"quantity\": 60}, {\"name\": \"Patates\", \"price\": 5, \"quantity\": 100}]},\n",
        "    {\"category\": \"İçecek\", \"items\": [{\"name\": \"Maden Suyu\", \"price\": 3, \"quantity\": 150}, {\"name\": \"Kola\", \"price\": 12, \"quantity\": 80}]}\n",
        "]\n",
        "```\n",
        "\n",
        "**Yapılması Gerekenler:**\n",
        "* Stokta toplam kaç ürün olduğunu hesaplayın.\n",
        "* En değerli ürünü (price * quantity en yüksek olan) bulun.\n",
        "* Her kategori için toplam stok değerini hesaplayan bir sözlük oluşturun.\n",
        "* Stok miktarı en düşük olan ürünü bulun.\n",
        "* Ortalama ürün fiyatını hesaplayın."
      ],
      "metadata": {
        "id": "Zj2y0uJ5cFdI"
      }
    },
    {
      "cell_type": "code",
      "source": [
        "# Stokta toplam kaç ürün olduğunu hesaplayın.\n"
      ],
      "metadata": {
        "id": "0zheaTGdcV-x"
      },
      "execution_count": null,
      "outputs": []
    },
    {
      "cell_type": "markdown",
      "source": [
        "**H3: Bir film platformundaki filmler hakkında aşağıdaki veri yapısı verilmiştir:**\n",
        "\n",
        "```\n",
        "movies = [\n",
        "    {\"title\": \"Film A\", \"genre\": \"Aksiyon\", \"ratings\": [8, 9, 7, 6, 9]},\n",
        "    {\"title\": \"Film B\", \"genre\": \"Komedi\", \"ratings\": [6, 5, 7, 8, 6]},\n",
        "    {\"title\": \"Film C\", \"genre\": \"Dram\", \"ratings\": [9, 9, 8, 7, 10]},\n",
        "    {\"title\": \"Film D\", \"genre\": \"Aksiyon\", \"ratings\": [7, 8, 9, 6, 8]}\n",
        "]\n",
        "```\n",
        "\n",
        "\n",
        "**Yapılması Gerekenler:**\n",
        "* En yüksek ortalama puana sahip filmi bulun.\n",
        "* Her tür için ortalama puanı hesaplayın.\n",
        "* Ortalama puanı 8’in üzerinde olan filmleri listeleyin.\n",
        "* Puanı 9 veya daha fazla olan filmlerin yüzdesini bulun.\n",
        "* Tür başına düşen film sayısını içeren bir sözlük oluşturun."
      ],
      "metadata": {
        "id": "i269NkI5cpE-"
      }
    },
    {
      "cell_type": "code",
      "source": [],
      "metadata": {
        "id": "N95rYYm6c3G7"
      },
      "execution_count": null,
      "outputs": []
    },
    {
      "cell_type": "markdown",
      "source": [
        "**H4: Bir okulda öğrencilerin ders notları aşağıdaki gibi tutulmaktadır:**\n",
        "\n",
        "```\n",
        "students = [\n",
        "    {\"name\": \"Ali\", \"grades\": {\"math\": 85, \"physics\": 90, \"history\": 78}},\n",
        "    {\"name\": \"Ayşe\", \"grades\": {\"math\": 92, \"physics\": 88, \"history\": 95}},\n",
        "    {\"name\": \"Mehmet\", \"grades\": {\"math\": 75, \"physics\": 80, \"history\": 85}},\n",
        "    {\"name\": \"Zeynep\", \"grades\": {\"math\": 90, \"physics\": 85, \"history\": 88}}\n",
        "]\n",
        "```\n",
        "\n",
        "\n",
        "**Yapılması Gerekenler:**\n",
        "* En yüksek ortalama notuna sahip öğrenciyi bulun.\n",
        "* Her dersin ortalama notunu hesaplayın.\n",
        "* Ortalama notu 85’in üzerinde olan öğrencileri listeleyin.\n",
        "* Tüm öğrencilerin genel ortalamasını hesaplayın.\n",
        "* Her ders için en yüksek notu alan öğrenciyi bulun."
      ],
      "metadata": {
        "id": "l72VW4dyc6wC"
      }
    },
    {
      "cell_type": "code",
      "source": [],
      "metadata": {
        "id": "GDSIZJridGgS"
      },
      "execution_count": null,
      "outputs": []
    }
  ]
}